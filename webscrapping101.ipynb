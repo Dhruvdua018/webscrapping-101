{
 "cells": [
  {
   "cell_type": "code",
   "execution_count": null,
   "id": "2a3f9ead",
   "metadata": {},
   "outputs": [],
   "source": [
    "!pip install requests\n",
    "!pip install bs4"
   ]
  },
  {
   "cell_type": "code",
   "execution_count": null,
   "id": "0e51783b",
   "metadata": {},
   "outputs": [],
   "source": [
    "!pip install html5lib"
   ]
  },
  {
   "cell_type": "code",
   "execution_count": null,
   "id": "96be42d7",
   "metadata": {},
   "outputs": [],
   "source": [
    "import requests\n",
    "from bs4 import BeautifulSoup #in BeautifulSoup, B and S always be capital \n",
    "#step1=get the html\n",
    "url = \"https://codewithharry.com\"\n",
    "r = requests.get(url)\n",
    "htmlcontent = r.content\n",
    "print(htmlcontent)\n"
   ]
  },
  {
   "cell_type": "code",
   "execution_count": null,
   "id": "30ec4f2c",
   "metadata": {},
   "outputs": [],
   "source": [
    "#step2 parse the html\n",
    "soup = BeautifulSoup(htmlcontent, 'html.parser')\n",
    "print(soup)"
   ]
  },
  {
   "cell_type": "code",
   "execution_count": null,
   "id": "c2e10e9f",
   "metadata": {},
   "outputs": [],
   "source": [
    "print(soup.prettify)"
   ]
  },
  {
   "cell_type": "code",
   "execution_count": null,
   "id": "6471899b",
   "metadata": {},
   "outputs": [],
   "source": []
  },
  {
   "cell_type": "markdown",
   "id": "7edd6b6e",
   "metadata": {},
   "source": [
    "commonly used types of objects\n",
    "1. Tags\n",
    "2. NavigableString\n",
    "3. BeautifulSoup\n",
    "4. Comment"
   ]
  },
  {
   "cell_type": "code",
   "execution_count": null,
   "id": "27a6b910",
   "metadata": {},
   "outputs": [],
   "source": [
    "#Get all the paragraphs from the page\n",
    "paras = soup.find_all('p')\n",
    "print(paras)"
   ]
  },
  {
   "cell_type": "code",
   "execution_count": null,
   "id": "d090652e",
   "metadata": {},
   "outputs": [],
   "source": [
    "#Get all the anchor tags from the page\n",
    "anchor = soup.find_all('a')\n",
    "print(anchor)"
   ]
  },
  {
   "cell_type": "code",
   "execution_count": null,
   "id": "a1141044",
   "metadata": {},
   "outputs": [],
   "source": [
    "#get first element in the HTML page\n",
    "print(soup.find('p'))"
   ]
  },
  {
   "cell_type": "code",
   "execution_count": null,
   "id": "a47f2102",
   "metadata": {},
   "outputs": [],
   "source": [
    "#get the classes of any element in the HTML page\n",
    "print(soup.find('p')['class'])"
   ]
  },
  {
   "cell_type": "raw",
   "id": "1a0563c5",
   "metadata": {},
   "source": [
    "#find all the elements with class lead\n",
    "print(soup.find_all('p',class_='lead'))"
   ]
  },
  {
   "cell_type": "code",
   "execution_count": null,
   "id": "f6ae7af4",
   "metadata": {},
   "outputs": [],
   "source": [
    "#get the text from the tags/soup\n",
    "print(soup.find('p').get_text())"
   ]
  },
  {
   "cell_type": "code",
   "execution_count": null,
   "id": "1a13906c",
   "metadata": {},
   "outputs": [],
   "source": [
    "print(soup.get_text())"
   ]
  },
  {
   "cell_type": "code",
   "execution_count": null,
   "id": "7c740bf9",
   "metadata": {},
   "outputs": [],
   "source": [
    "#get all the links on the page\n",
    "for link in anchor:\n",
    "    print(link.get('href'))"
   ]
  },
  {
   "cell_type": "code",
   "execution_count": null,
   "id": "a26e3d22",
   "metadata": {},
   "outputs": [],
   "source": [
    "#get all the links on the page\n",
    "all_links = set()\n",
    "for link in anchor:\n",
    "    if(link.get('href') != '#'):\n",
    "        linkText = \"https://codewithharry.com\" +link.get('href')\n",
    "        all_links.add(link)\n",
    "        print(linkText)"
   ]
  },
  {
   "cell_type": "code",
   "execution_count": null,
   "id": "44e645df",
   "metadata": {},
   "outputs": [],
   "source": [
    "#comments\n",
    "markup = \"<p><!--this is a comment--></p>\"\n",
    "soup2 = BeautifulSoup(markup)\n",
    "print(soup2.p.string)\n",
    "print(soup2.p)\n",
    "print(type(soup2.p.string))\n"
   ]
  },
  {
   "cell_type": "code",
   "execution_count": null,
   "id": "1d82e6cf",
   "metadata": {},
   "outputs": [],
   "source": [
    "#contents and children\n",
    "#.content = A Tag's children are available as a list\n",
    "#.children = A Tag's children are available as a generator\n",
    "\n",
    "navbarSupportedContent = soup.find(id='navbarSupportedContent')\n",
    "print(navbarSupportedContent)\n",
    "#for elem in navbarSupportedContent.contents:\n",
    "  #  print(elem)"
   ]
  },
  {
   "cell_type": "code",
   "execution_count": null,
   "id": "0a126f3b",
   "metadata": {},
   "outputs": [],
   "source": [
    "for item in navbarSupportedContent.strings:\n",
    "    print(item)"
   ]
  },
  {
   "cell_type": "code",
   "execution_count": null,
   "id": "d760b028",
   "metadata": {},
   "outputs": [],
   "source": [
    "print(navbarSupportedContent.parents)"
   ]
  },
  {
   "cell_type": "code",
   "execution_count": null,
   "id": "c7024e77",
   "metadata": {},
   "outputs": [],
   "source": []
  }
 ],
 "metadata": {
  "kernelspec": {
   "display_name": "Python 3",
   "language": "python",
   "name": "python3"
  },
  "language_info": {
   "codemirror_mode": {
    "name": "ipython",
    "version": 3
   },
   "file_extension": ".py",
   "mimetype": "text/x-python",
   "name": "python",
   "nbconvert_exporter": "python",
   "pygments_lexer": "ipython3",
   "version": "3.8.8"
  }
 },
 "nbformat": 4,
 "nbformat_minor": 5
}
